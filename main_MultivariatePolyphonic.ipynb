{
 "cells": [
  {
   "cell_type": "code",
   "execution_count": 76,
   "source": [
    "import numpy as np\n",
    "import random\n",
    "from DeepESN import DeepESN\n",
    "from utils import computeMusicAccuracy, config_pianomidi, load_pianomidi, select_indexes"
   ],
   "outputs": [],
   "metadata": {}
  },
  {
   "cell_type": "code",
   "execution_count": 77,
   "source": [
    "%load_ext autoreload\n",
    "# auto reload external modules to see changes without kernel restart\n",
    "%autoreload 2"
   ],
   "outputs": [
    {
     "output_type": "stream",
     "name": "stdout",
     "text": [
      "The autoreload extension is already loaded. To reload it, use:\n",
      "  %reload_ext autoreload\n"
     ]
    }
   ],
   "metadata": {}
  },
  {
   "cell_type": "code",
   "execution_count": 78,
   "source": [
    "# fix a seed for the reproducibility of results\n",
    "np.random.seed(7)"
   ],
   "outputs": [],
   "metadata": {}
  },
  {
   "cell_type": "code",
   "execution_count": 79,
   "source": [
    "# dataset path \n",
    "path = 'datasets'\n",
    "dataset, Nu, error_function, optimization_problem, TR_indexes, VL_indexes, TS_indexes = load_pianomidi(path, computeMusicAccuracy)"
   ],
   "outputs": [],
   "metadata": {}
  },
  {
   "cell_type": "code",
   "execution_count": 80,
   "source": [
    "print(TR_indexes)\n",
    "print(VL_indexes)\n",
    "print(TS_indexes)\n",
    "tmp1 = [len(j) for i in TR_indexes for j in dataset.inputs[i]]\n",
    "print(min(tmp1), max(tmp1))\n",
    "tmp2 = [len(j) for i in VL_indexes for j in dataset.inputs[i]]\n",
    "print(min(tmp2), max(tmp2))"
   ],
   "outputs": [
    {
     "output_type": "stream",
     "name": "stdout",
     "text": [
      "range(0, 87)\n",
      "range(87, 99)\n",
      "range(99, 124)\n",
      "110 3856\n",
      "208 1636\n"
     ]
    }
   ],
   "metadata": {}
  },
  {
   "cell_type": "code",
   "execution_count": 90,
   "source": [
    "# load configuration for pianomidi task\n",
    "configs = config_pianomidi(list(TR_indexes) + list(VL_indexes), Nu=Nu) "
   ],
   "outputs": [],
   "metadata": {}
  },
  {
   "cell_type": "code",
   "execution_count": 83,
   "source": [
    "transient = 5"
   ],
   "outputs": [],
   "metadata": {}
  },
  {
   "cell_type": "code",
   "execution_count": 92,
   "source": [
    "deepESN = DeepESN(configs)\n",
    "states = deepESN.computeState(dataset.inputs, deepESN.IPconf[\"DeepIP\"])"
   ],
   "outputs": [
    {
     "output_type": "stream",
     "name": "stdout",
     "text": [
      "6.10.9.8.8."
     ]
    }
   ],
   "metadata": {}
  },
  {
   "cell_type": "code",
   "execution_count": 93,
   "source": [
    "print(len(states[3]))\n",
    "tmp3 = [len(j) for i in states for j in i]\n",
    "print(min(tmp3), max(tmp3))"
   ],
   "outputs": [
    {
     "output_type": "stream",
     "name": "stdout",
     "text": [
      "500\n",
      "64 3856\n"
     ]
    }
   ],
   "metadata": {}
  },
  {
   "cell_type": "code",
   "execution_count": 94,
   "source": [
    "train_states = select_indexes(states, list(TR_indexes) + list(VL_indexes), transient)\n",
    "train_targets = select_indexes(dataset.targets, list(TR_indexes) + list(VL_indexes), transient)\n",
    "test_states = select_indexes(states, TS_indexes)\n",
    "test_targets = select_indexes(dataset.targets, TS_indexes)"
   ],
   "outputs": [],
   "metadata": {}
  },
  {
   "cell_type": "code",
   "execution_count": 95,
   "source": [
    "deepESN.trainReadout(train_states, train_targets)"
   ],
   "outputs": [],
   "metadata": {}
  },
  {
   "cell_type": "code",
   "execution_count": 96,
   "source": [
    "train_outputs = deepESN.computeOutput(train_states)\n",
    "train_error = error_function(train_outputs, train_targets)\n",
    "print('Training ACC: ', np.mean(train_error), '\\n')"
   ],
   "outputs": [
    {
     "output_type": "stream",
     "name": "stdout",
     "text": [
      "Training ACC:  0.34560380763763554 \n",
      "\n"
     ]
    }
   ],
   "metadata": {}
  },
  {
   "cell_type": "code",
   "execution_count": 97,
   "source": [
    "test_outputs = deepESN.computeOutput(test_states)\n",
    "test_error = error_function(test_outputs, test_targets)\n",
    "print('Test ACC: ', np.mean(test_error), '\\n')"
   ],
   "outputs": [
    {
     "output_type": "stream",
     "name": "stdout",
     "text": [
      "Test ACC:  0.3048247518161558 \n",
      "\n"
     ]
    }
   ],
   "metadata": {}
  },
  {
   "cell_type": "code",
   "execution_count": null,
   "source": [],
   "outputs": [],
   "metadata": {}
  }
 ],
 "metadata": {
  "orig_nbformat": 4,
  "language_info": {
   "name": "python",
   "version": "3.9.7",
   "mimetype": "text/x-python",
   "codemirror_mode": {
    "name": "ipython",
    "version": 3
   },
   "pygments_lexer": "ipython3",
   "nbconvert_exporter": "python",
   "file_extension": ".py"
  },
  "kernelspec": {
   "name": "python3",
   "display_name": "Python 3.9.7 64-bit ('esn_keras_reservoir_computing': conda)"
  },
  "interpreter": {
   "hash": "48c6eb5a55dfe392f084bccbe224738ad3d063f0155f71a36b62cdd0ba995878"
  }
 },
 "nbformat": 4,
 "nbformat_minor": 2
}